{
 "cells": [
  {
   "cell_type": "markdown",
   "id": "3ccb77cb",
   "metadata": {},
   "source": [
    "# Q1.\n",
    "Write a Python Program to Find the Factorial of a Number?"
   ]
  },
  {
   "cell_type": "code",
   "execution_count": 30,
   "id": "44c4a6e2",
   "metadata": {},
   "outputs": [
    {
     "name": "stdout",
     "output_type": "stream",
     "text": [
      "Enter a number : 10\n",
      "The factorial of the given number is  3628800\n"
     ]
    }
   ],
   "source": [
    "num=int(input(\"Enter a number : \"))\n",
    "if num<0:\n",
    "    print(\"Negative numbers dont have factorials,please change the number\")\n",
    "elif num==0:\n",
    "    print(\"0!= 1\")\n",
    "else:\n",
    "    factorial=1\n",
    "    while num>1:\n",
    "        factorial=factorial*num\n",
    "        num=num-1\n",
    "    print(\"The factorial of the given number is \",factorial)"
   ]
  },
  {
   "cell_type": "markdown",
   "id": "db802a3f",
   "metadata": {},
   "source": [
    "# Q2\n",
    "Write a Python Program to Display the multiplication Table?"
   ]
  },
  {
   "cell_type": "code",
   "execution_count": 31,
   "id": "1eaf4d8e",
   "metadata": {},
   "outputs": [
    {
     "name": "stdout",
     "output_type": "stream",
     "text": [
      "Enter a number : 10\n",
      "10 x 1 is 10\n",
      "10 x 2 is 20\n",
      "10 x 3 is 30\n",
      "10 x 4 is 40\n",
      "10 x 5 is 50\n",
      "10 x 6 is 60\n",
      "10 x 7 is 70\n",
      "10 x 8 is 80\n",
      "10 x 9 is 90\n",
      "10 x 10 is 100\n",
      "10 x 11 is 110\n",
      "10 x 12 is 120\n",
      "10 x 13 is 130\n",
      "10 x 14 is 140\n",
      "10 x 15 is 150\n",
      "10 x 16 is 160\n",
      "10 x 17 is 170\n",
      "10 x 18 is 180\n",
      "10 x 19 is 190\n",
      "10 x 20 is 200\n"
     ]
    }
   ],
   "source": [
    "#Multiplication table till 20\n",
    "num=int(input(\"Enter a number : \"))\n",
    "for i in range (1,21):\n",
    "    print(num,\"x\",i,\"is\",num*i)"
   ]
  },
  {
   "cell_type": "markdown",
   "id": "e48daf25",
   "metadata": {},
   "source": [
    "# Q3\n",
    "Write a Python Program to Print the Fibonacci sequence?"
   ]
  },
  {
   "cell_type": "code",
   "execution_count": 35,
   "id": "6a57238a",
   "metadata": {},
   "outputs": [
    {
     "name": "stdout",
     "output_type": "stream",
     "text": [
      "Enter n value : 10\n",
      "Here is the fibonacci sequence : \n",
      "0\n",
      "1\n",
      "1\n",
      "2\n",
      "3\n",
      "5\n",
      "8\n",
      "13\n",
      "21\n",
      "34\n"
     ]
    }
   ],
   "source": [
    "no_of_terms=int(input(\"Enter n value : \"))\n",
    "n1=0\n",
    "n2=1\n",
    "count=0\n",
    "if no_of_terms<=0:\n",
    "    print(\"Please enter a positive integer\")\n",
    "else:\n",
    "    print(\"Here is the fibonacci sequence : \")\n",
    "    while count<no_of_terms:\n",
    "        print(n1)\n",
    "        nth=n1+n2\n",
    "        n1=n2\n",
    "        n2=nth\n",
    "        count=count+1\n",
    "\n",
    "    \n",
    "    "
   ]
  },
  {
   "cell_type": "markdown",
   "id": "de656ca5",
   "metadata": {},
   "source": [
    "# Q4\n",
    "Write a Python Program to Check Armstrong Number?"
   ]
  },
  {
   "cell_type": "markdown",
   "id": "6b9c782f",
   "metadata": {},
   "source": [
    "For armstrong number abcd... = a**n + b**n + c**n + d**n + ..."
   ]
  },
  {
   "cell_type": "code",
   "execution_count": 44,
   "id": "0cd85184",
   "metadata": {},
   "outputs": [
    {
     "name": "stdout",
     "output_type": "stream",
     "text": [
      "Enter a number : 153\n",
      "There are 3 digits\n",
      "153 is an Armstrong number\n"
     ]
    }
   ],
   "source": [
    "num =int(input(\"Enter a number : \"))\n",
    "n=len(str(num))\n",
    "print(\"There are\",n,\"digits\")\n",
    "num1=num\n",
    "add=0\n",
    "while num1>0:\n",
    "    digit=num1 % 10 #The remainder will be the last digit of the number\n",
    "    add=add+(digit**n)\n",
    "    num1=num1//10\n",
    "    \n",
    "if num==add:\n",
    "    print(num,\"is an Armstrong number\")\n",
    "else:\n",
    "    print(num,\"is not an Armstrong number\")"
   ]
  },
  {
   "cell_type": "markdown",
   "id": "bd0a381f",
   "metadata": {},
   "source": [
    "# Q5\n",
    "Write a Python Program to Find Armstrong Number in an Interval?"
   ]
  },
  {
   "cell_type": "code",
   "execution_count": null,
   "id": "639e0d7b",
   "metadata": {},
   "outputs": [],
   "source": [
    "low=int(input(\"Enter a the lower interval : \"))\n",
    "up=int(input(\"Enter a the upper interval : \"))\n",
    "add=0\n",
    "for i in range(low,up+1):\n",
    "    n=len(str(i))\n",
    "    add=0\n",
    "    num1=i\n",
    "    while num1>0:\n",
    "        digit=num1 % 10 #The remainder will be the last digit of the number\n",
    "    add=add+(digit**n)\n",
    "    num1=num1 // 10\n",
    "    \n",
    "    if i==add:\n",
    "        print(i)"
   ]
  },
  {
   "cell_type": "markdown",
   "id": "a61883b8",
   "metadata": {},
   "source": [
    "# Q6\n",
    "Write a Python Program to Find the Sum of Natural Numbers?"
   ]
  },
  {
   "cell_type": "markdown",
   "id": "4c2444c1",
   "metadata": {},
   "source": [
    "1 is not a natural number thus iterating over 1"
   ]
  },
  {
   "cell_type": "code",
   "execution_count": 38,
   "id": "1214cc7a",
   "metadata": {},
   "outputs": [
    {
     "name": "stdout",
     "output_type": "stream",
     "text": [
      "Enter a  natural number : 16\n",
      "The sum of natural numbers upto 16 is 135\n"
     ]
    }
   ],
   "source": [
    "num =int(input(\"Enter a  natural number : \"))\n",
    "num1=num\n",
    "if num<1:\n",
    "    print(\"That's not a natural number\")\n",
    "else:\n",
    "    add=0\n",
    "    while num>1:\n",
    "        add=add+num\n",
    "        num=num-1\n",
    "    print(\"The sum of natural numbers upto\",num1,\"is\",add)"
   ]
  }
 ],
 "metadata": {
  "kernelspec": {
   "display_name": "Python 3 (ipykernel)",
   "language": "python",
   "name": "python3"
  },
  "language_info": {
   "codemirror_mode": {
    "name": "ipython",
    "version": 3
   },
   "file_extension": ".py",
   "mimetype": "text/x-python",
   "name": "python",
   "nbconvert_exporter": "python",
   "pygments_lexer": "ipython3",
   "version": "3.9.7"
  }
 },
 "nbformat": 4,
 "nbformat_minor": 5
}
