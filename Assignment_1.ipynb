{
 "cells": [
  {
   "cell_type": "markdown",
   "id": "3ccb77cb",
   "metadata": {},
   "source": [
    "# Q1.\n",
    "In the below elements which of them are values or an expression? eg:- values can be integer or string and expressions will be mathematical operators."
   ]
  },
  {
   "cell_type": "markdown",
   "id": "b72a1fbf",
   "metadata": {},
   "source": [
    "*- Expression"
   ]
  },
  {
   "cell_type": "markdown",
   "id": "cdd98514",
   "metadata": {},
   "source": [
    "\"hello\" - Value"
   ]
  },
  {
   "cell_type": "markdown",
   "id": "dedc9d38",
   "metadata": {},
   "source": [
    "-87.8 - Value"
   ]
  },
  {
   "cell_type": "markdown",
   "id": "23b2e12a",
   "metadata": {},
   "source": [
    "-- Expression"
   ]
  },
  {
   "cell_type": "markdown",
   "id": "3cb4b5da",
   "metadata": {},
   "source": [
    "/- Expression"
   ]
  },
  {
   "cell_type": "markdown",
   "id": "cf5726f8",
   "metadata": {},
   "source": [
    "+- Expression"
   ]
  },
  {
   "cell_type": "markdown",
   "id": "aa6af728",
   "metadata": {},
   "source": [
    "6-value"
   ]
  },
  {
   "cell_type": "markdown",
   "id": "db802a3f",
   "metadata": {},
   "source": [
    "# Q2\n",
    "What is the difference between string and variable?"
   ]
  },
  {
   "cell_type": "code",
   "execution_count": 5,
   "id": "3ba53087",
   "metadata": {},
   "outputs": [
    {
     "data": {
      "text/plain": [
       "str"
      ]
     },
     "execution_count": 5,
     "metadata": {},
     "output_type": "execute_result"
    }
   ],
   "source": [
    "a=\"xyz\"\n",
    "type(\"xyz\")"
   ]
  },
  {
   "cell_type": "markdown",
   "id": "565ee7b6",
   "metadata": {},
   "source": [
    "a(variable) , \"xyz\" (string)"
   ]
  },
  {
   "cell_type": "markdown",
   "id": "507742ce",
   "metadata": {},
   "source": [
    "Strings is a data type for a a sequence of characters\n",
    "Variables are references that you create to refer to values in your code later"
   ]
  },
  {
   "cell_type": "markdown",
   "id": "e48daf25",
   "metadata": {},
   "source": [
    "# Q3\n",
    "Describe three different data types."
   ]
  },
  {
   "cell_type": "markdown",
   "id": "3fecf728",
   "metadata": {},
   "source": [
    "Complex Numbers - are an extension of the familiar real number system in which all numbers are expressed as a sum of a real part and an imaginary part\n",
    "\n",
    "Integers - They are zero, positive or negative whole numbers without a fractional part and having unlimited precision\n",
    "\n",
    "float - is used to represent real numbers and is written with a decimal point dividing the integer and fractional parts. \n"
   ]
  },
  {
   "cell_type": "code",
   "execution_count": 7,
   "id": "fac54981",
   "metadata": {},
   "outputs": [
    {
     "data": {
      "text/plain": [
       "complex"
      ]
     },
     "execution_count": 7,
     "metadata": {},
     "output_type": "execute_result"
    }
   ],
   "source": [
    "a=10+5j\n",
    "type(a)"
   ]
  },
  {
   "cell_type": "code",
   "execution_count": 8,
   "id": "32e59752",
   "metadata": {},
   "outputs": [
    {
     "data": {
      "text/plain": [
       "int"
      ]
     },
     "execution_count": 8,
     "metadata": {},
     "output_type": "execute_result"
    }
   ],
   "source": [
    "b=10\n",
    "type(b)"
   ]
  },
  {
   "cell_type": "code",
   "execution_count": 9,
   "id": "0503d08c",
   "metadata": {},
   "outputs": [
    {
     "data": {
      "text/plain": [
       "float"
      ]
     },
     "execution_count": 9,
     "metadata": {},
     "output_type": "execute_result"
    }
   ],
   "source": [
    "c=10.5\n",
    "type(c)"
   ]
  },
  {
   "cell_type": "markdown",
   "id": "de656ca5",
   "metadata": {},
   "source": [
    "# Q4\n",
    "What is an expression made up of? What do all expressions do?"
   ]
  },
  {
   "cell_type": "markdown",
   "id": "86ac44e3",
   "metadata": {},
   "source": [
    "An expression is a combination of values, variables, operators, and calls to functions."
   ]
  },
  {
   "cell_type": "markdown",
   "id": "77e7938d",
   "metadata": {},
   "source": [
    "Expressions need to be evaluated. If you ask Python to print an expression, the interpreter evaluates the expression and displays the result."
   ]
  },
  {
   "cell_type": "markdown",
   "id": "bd0a381f",
   "metadata": {},
   "source": [
    "# Q5\n",
    "This assignment statements, like spam = 10. What is the difference between an\n",
    "expression and a statement?"
   ]
  },
  {
   "cell_type": "markdown",
   "id": "8c723666",
   "metadata": {},
   "source": [
    "Statements represent an action or command e.g print statements, assignment statements."
   ]
  },
  {
   "cell_type": "code",
   "execution_count": 22,
   "id": "36782423",
   "metadata": {},
   "outputs": [
    {
     "name": "stdout",
     "output_type": "stream",
     "text": [
      "hello\n"
     ]
    }
   ],
   "source": [
    "x=10 , print(\"hello\")"
   ]
  },
  {
   "cell_type": "markdown",
   "id": "77c681f9",
   "metadata": {},
   "source": [
    "Expression is a combination of variables, operations and values that yields a result value."
   ]
  },
  {
   "cell_type": "code",
   "execution_count": 24,
   "id": "b9571836",
   "metadata": {},
   "outputs": [
    {
     "data": {
      "text/plain": [
       "42"
      ]
     },
     "execution_count": 24,
     "metadata": {},
     "output_type": "execute_result"
    }
   ],
   "source": [
    "7 * 6 "
   ]
  },
  {
   "cell_type": "markdown",
   "id": "bcc7e056",
   "metadata": {},
   "source": [
    "# Q6\n",
    "After running the following code, what does the variable bacon contain?\n",
    "bacon = 22\n",
    "bacon + 1"
   ]
  },
  {
   "cell_type": "code",
   "execution_count": 10,
   "id": "2328f493",
   "metadata": {},
   "outputs": [
    {
     "data": {
      "text/plain": [
       "23"
      ]
     },
     "execution_count": 10,
     "metadata": {},
     "output_type": "execute_result"
    }
   ],
   "source": [
    "bacon=22\n",
    "bacon+1"
   ]
  },
  {
   "cell_type": "code",
   "execution_count": 11,
   "id": "ced0111b",
   "metadata": {},
   "outputs": [
    {
     "data": {
      "text/plain": [
       "22"
      ]
     },
     "execution_count": 11,
     "metadata": {},
     "output_type": "execute_result"
    }
   ],
   "source": [
    "bacon"
   ]
  },
  {
   "cell_type": "code",
   "execution_count": 12,
   "id": "e23b8632",
   "metadata": {},
   "outputs": [
    {
     "data": {
      "text/plain": [
       "int"
      ]
     },
     "execution_count": 12,
     "metadata": {},
     "output_type": "execute_result"
    }
   ],
   "source": [
    "type(bacon)"
   ]
  },
  {
   "cell_type": "markdown",
   "id": "ec36f9ba",
   "metadata": {},
   "source": [
    "Variable bacon contains an integer"
   ]
  },
  {
   "cell_type": "markdown",
   "id": "b04d4a6d",
   "metadata": {},
   "source": [
    "# Q7\n",
    "What should the values of the following two terms be?"
   ]
  },
  {
   "cell_type": "code",
   "execution_count": 13,
   "id": "b40221db",
   "metadata": {},
   "outputs": [
    {
     "data": {
      "text/plain": [
       "'spamspamspam'"
      ]
     },
     "execution_count": 13,
     "metadata": {},
     "output_type": "execute_result"
    }
   ],
   "source": [
    "\"spam\"+\"spamspam\""
   ]
  },
  {
   "cell_type": "code",
   "execution_count": 14,
   "id": "68354b56",
   "metadata": {},
   "outputs": [
    {
     "data": {
      "text/plain": [
       "'spamspamspam'"
      ]
     },
     "execution_count": 14,
     "metadata": {},
     "output_type": "execute_result"
    }
   ],
   "source": [
    "\"spam\"*3"
   ]
  },
  {
   "cell_type": "markdown",
   "id": "697d7a77",
   "metadata": {},
   "source": [
    "# Q8\n",
    "Why is eggs a valid variable name while 100 is invalid?"
   ]
  },
  {
   "cell_type": "code",
   "execution_count": 20,
   "id": "56b5543f",
   "metadata": {},
   "outputs": [],
   "source": [
    "eggs=\"xyz\""
   ]
  },
  {
   "cell_type": "code",
   "execution_count": 21,
   "id": "c66f8777",
   "metadata": {},
   "outputs": [
    {
     "ename": "SyntaxError",
     "evalue": "cannot assign to literal (Temp/ipykernel_14812/1086686573.py, line 1)",
     "output_type": "error",
     "traceback": [
      "\u001b[1;36m  File \u001b[1;32m\"C:\\Users\\jayag\\AppData\\Local\\Temp/ipykernel_14812/1086686573.py\"\u001b[1;36m, line \u001b[1;32m1\u001b[0m\n\u001b[1;33m    100=\"xyz\"\u001b[0m\n\u001b[1;37m    ^\u001b[0m\n\u001b[1;31mSyntaxError\u001b[0m\u001b[1;31m:\u001b[0m cannot assign to literal\n"
     ]
    }
   ],
   "source": [
    "100=\"xyz\""
   ]
  },
  {
   "cell_type": "code",
   "execution_count": null,
   "id": "e1522f98",
   "metadata": {},
   "outputs": [],
   "source": []
  },
  {
   "cell_type": "markdown",
   "id": "4a00a225",
   "metadata": {},
   "source": [
    "# Q9\n",
    "What three functions can be used to get the integer, floating-point number, or string version of a value?"
   ]
  },
  {
   "cell_type": "markdown",
   "id": "8c2bc162",
   "metadata": {},
   "source": [
    "int() , float() , and str( )"
   ]
  },
  {
   "cell_type": "markdown",
   "id": "e3153a83",
   "metadata": {},
   "source": [
    "# Q10\n",
    "Why does this expression cause an error? How can you fix it?\n"
   ]
  },
  {
   "cell_type": "code",
   "execution_count": 15,
   "id": "28374332",
   "metadata": {
    "scrolled": true
   },
   "outputs": [
    {
     "ename": "TypeError",
     "evalue": "can only concatenate str (not \"int\") to str",
     "output_type": "error",
     "traceback": [
      "\u001b[1;31m---------------------------------------------------------------------------\u001b[0m",
      "\u001b[1;31mTypeError\u001b[0m                                 Traceback (most recent call last)",
      "\u001b[1;32m~\\AppData\\Local\\Temp/ipykernel_14812/437589095.py\u001b[0m in \u001b[0;36m<module>\u001b[1;34m\u001b[0m\n\u001b[1;32m----> 1\u001b[1;33m \u001b[1;34m\"I have eaten\"\u001b[0m\u001b[1;33m+\u001b[0m\u001b[1;36m99\u001b[0m\u001b[1;33m+\u001b[0m\u001b[1;34m\"Burritos\"\u001b[0m\u001b[1;33m\u001b[0m\u001b[1;33m\u001b[0m\u001b[0m\n\u001b[0m",
      "\u001b[1;31mTypeError\u001b[0m: can only concatenate str (not \"int\") to str"
     ]
    }
   ],
   "source": [
    "\"I have eaten\"+99+\"Burritos\""
   ]
  },
  {
   "cell_type": "markdown",
   "id": "090cd92c",
   "metadata": {},
   "source": [
    "Reason - can only concatenate str (not \"int\") to str"
   ]
  },
  {
   "cell_type": "code",
   "execution_count": 16,
   "id": "7cdbdad8",
   "metadata": {},
   "outputs": [],
   "source": [
    "a=str(99)"
   ]
  },
  {
   "cell_type": "code",
   "execution_count": 19,
   "id": "f98f14fb",
   "metadata": {},
   "outputs": [
    {
     "data": {
      "text/plain": [
       "'I have eaten 99 Burritos'"
      ]
     },
     "execution_count": 19,
     "metadata": {},
     "output_type": "execute_result"
    }
   ],
   "source": [
    "\"I have eaten \"+a+\" Burritos\""
   ]
  }
 ],
 "metadata": {
  "kernelspec": {
   "display_name": "Python 3 (ipykernel)",
   "language": "python",
   "name": "python3"
  },
  "language_info": {
   "codemirror_mode": {
    "name": "ipython",
    "version": 3
   },
   "file_extension": ".py",
   "mimetype": "text/x-python",
   "name": "python",
   "nbconvert_exporter": "python",
   "pygments_lexer": "ipython3",
   "version": "3.9.7"
  }
 },
 "nbformat": 4,
 "nbformat_minor": 5
}
