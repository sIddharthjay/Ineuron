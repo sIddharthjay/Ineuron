{
 "cells": [
  {
   "cell_type": "markdown",
   "id": "b4237443",
   "metadata": {},
   "source": [
    "# Q1\n",
    "What exactly is []?"
   ]
  },
  {
   "cell_type": "markdown",
   "id": "841ee866",
   "metadata": {},
   "source": [
    "[] indicates a list which is  a sequence of items that can be changed (mutable).It's empty"
   ]
  },
  {
   "cell_type": "markdown",
   "id": "4f9a501d",
   "metadata": {},
   "source": [
    "# Q2\n",
    "In a list of values stored in a variable called spam, how would you assign the value &#39;hello&#39; as the\n",
    "third value? (Assume [2, 4, 6, 8, 10] are in spam.)\n"
   ]
  },
  {
   "cell_type": "code",
   "execution_count": 1,
   "id": "9a4d2433",
   "metadata": {},
   "outputs": [],
   "source": [
    "spam=[2,4,6,8]\n",
    "spam[2]=\"hello\""
   ]
  },
  {
   "cell_type": "code",
   "execution_count": 2,
   "id": "b7abf31b",
   "metadata": {},
   "outputs": [
    {
     "data": {
      "text/plain": [
       "[2, 4, 'hello', 8]"
      ]
     },
     "execution_count": 2,
     "metadata": {},
     "output_type": "execute_result"
    }
   ],
   "source": [
    "spam"
   ]
  },
  {
   "cell_type": "markdown",
   "id": "343fb872",
   "metadata": {},
   "source": [
    "# Q3\n",
    "What is the value of spam[int(int(&#39;3&#39; * 2) / 11)]?"
   ]
  },
  {
   "cell_type": "code",
   "execution_count": 3,
   "id": "e6732a8a",
   "metadata": {},
   "outputs": [],
   "source": [
    "spam=['a','b','c','d']"
   ]
  },
  {
   "cell_type": "code",
   "execution_count": 6,
   "id": "3303ad3c",
   "metadata": {},
   "outputs": [
    {
     "data": {
      "text/plain": [
       "'d'"
      ]
     },
     "execution_count": 6,
     "metadata": {},
     "output_type": "execute_result"
    }
   ],
   "source": [
    "spam[int(int('3' * 2) // 11)]"
   ]
  },
  {
   "cell_type": "markdown",
   "id": "96d51446",
   "metadata": {},
   "source": [
    "# Q4\n",
    "What is the value of spam[-1]?"
   ]
  },
  {
   "cell_type": "code",
   "execution_count": 9,
   "id": "c88599e6",
   "metadata": {},
   "outputs": [
    {
     "data": {
      "text/plain": [
       "'d'"
      ]
     },
     "execution_count": 9,
     "metadata": {},
     "output_type": "execute_result"
    }
   ],
   "source": [
    "spam[-1]"
   ]
  },
  {
   "cell_type": "markdown",
   "id": "33c132c2",
   "metadata": {},
   "source": [
    "# Q5\n",
    "What is the value of spam[:2]?"
   ]
  },
  {
   "cell_type": "code",
   "execution_count": 10,
   "id": "0b213f7a",
   "metadata": {},
   "outputs": [
    {
     "data": {
      "text/plain": [
       "['a', 'b']"
      ]
     },
     "execution_count": 10,
     "metadata": {},
     "output_type": "execute_result"
    }
   ],
   "source": [
    "spam[:2]"
   ]
  },
  {
   "cell_type": "markdown",
   "id": "ad8ed265",
   "metadata": {},
   "source": [
    "Let&#39;s pretend bacon has the list [3.14, &#39;cat,&#39; 11, &#39;cat,&#39; True] for the next three questions."
   ]
  },
  {
   "cell_type": "code",
   "execution_count": 12,
   "id": "bd007560",
   "metadata": {},
   "outputs": [],
   "source": [
    "bacon=[3.14, 'cat', 11, 'cat', True]"
   ]
  },
  {
   "cell_type": "markdown",
   "id": "5a250ec6",
   "metadata": {},
   "source": [
    "# Q6\n",
    "What is the value of bacon.index(&#39;cat&#39;)?\n",
    "1"
   ]
  },
  {
   "cell_type": "code",
   "execution_count": 13,
   "id": "7fc7230b",
   "metadata": {},
   "outputs": [
    {
     "data": {
      "text/plain": [
       "1"
      ]
     },
     "execution_count": 13,
     "metadata": {},
     "output_type": "execute_result"
    }
   ],
   "source": [
    "bacon.index('cat')"
   ]
  },
  {
   "cell_type": "markdown",
   "id": "c785dcb1",
   "metadata": {},
   "source": [
    "# Q7\n",
    "How does bacon.append(99) change the look of the list value in bacon?"
   ]
  },
  {
   "cell_type": "code",
   "execution_count": 14,
   "id": "c8e18737",
   "metadata": {},
   "outputs": [
    {
     "data": {
      "text/plain": [
       "[3.14, 'cat', 11, 'cat', True, 99]"
      ]
     },
     "execution_count": 14,
     "metadata": {},
     "output_type": "execute_result"
    }
   ],
   "source": [
    "bacon.append(99)\n",
    "bacon"
   ]
  },
  {
   "cell_type": "markdown",
   "id": "b204ccd6",
   "metadata": {},
   "source": [
    "# Q8\n",
    "How does bacon.remove(&#39;cat&#39;) change the look of the list in bacon?"
   ]
  },
  {
   "cell_type": "code",
   "execution_count": 16,
   "id": "cb1ff3b2",
   "metadata": {},
   "outputs": [
    {
     "data": {
      "text/plain": [
       "[3.14, 11, True, 99]"
      ]
     },
     "execution_count": 16,
     "metadata": {},
     "output_type": "execute_result"
    }
   ],
   "source": [
    "bacon.remove('cat')\n",
    "bacon"
   ]
  },
  {
   "cell_type": "markdown",
   "id": "c339f56c",
   "metadata": {},
   "source": [
    "# Q9\n",
    "What are the list concatenation and list replication operators?"
   ]
  },
  {
   "cell_type": "markdown",
   "id": "5b382017",
   "metadata": {},
   "source": [
    "1. Concatenation - +\n",
    "2. Replication - *"
   ]
  },
  {
   "cell_type": "markdown",
   "id": "01379e49",
   "metadata": {},
   "source": [
    "# Q10\n",
    "What is difference between the list methods append() and insert()?"
   ]
  },
  {
   "cell_type": "markdown",
   "id": "f989b99e",
   "metadata": {},
   "source": [
    "Append function will add values to the end of a list whereas insert function can insert a value anywhere in a list"
   ]
  },
  {
   "cell_type": "markdown",
   "id": "a26920a2",
   "metadata": {},
   "source": [
    "# Q11\n",
    "What are the two methods for removing items from a list?"
   ]
  },
  {
   "cell_type": "markdown",
   "id": "47778aa1",
   "metadata": {},
   "source": [
    "1. remove()\n",
    "2. del statement"
   ]
  },
  {
   "cell_type": "markdown",
   "id": "31814890",
   "metadata": {},
   "source": [
    "# Q12\n",
    "Describe how list values and string values are identical."
   ]
  },
  {
   "cell_type": "markdown",
   "id": "cefd6ffe",
   "metadata": {},
   "source": [
    "1. Both have indexes\n",
    "2. Both have slices\n",
    "3. Both can be replicated\n",
    "4. Both can be concatenated\n",
    "5. Both can be used with in operators"
   ]
  },
  {
   "cell_type": "markdown",
   "id": "981abf70",
   "metadata": {},
   "source": [
    "# Q13\n",
    "What&#39;s the difference between tuples and lists?"
   ]
  },
  {
   "cell_type": "markdown",
   "id": "a50b16b2",
   "metadata": {},
   "source": [
    "1. Lists are mutable wherease tuples aren't\n",
    "2. Lists use [] whereas tuples use ()"
   ]
  },
  {
   "cell_type": "markdown",
   "id": "eaddb5a3",
   "metadata": {},
   "source": [
    "# Q14\n",
    "How do you type a tuple value that only contains the integer 42?"
   ]
  },
  {
   "cell_type": "code",
   "execution_count": 19,
   "id": "db605f8d",
   "metadata": {},
   "outputs": [
    {
     "data": {
      "text/plain": [
       "tuple"
      ]
     },
     "execution_count": 19,
     "metadata": {},
     "output_type": "execute_result"
    }
   ],
   "source": [
    "x=(42,)\n",
    "type(x)"
   ]
  },
  {
   "cell_type": "markdown",
   "id": "784d8459",
   "metadata": {},
   "source": [
    "# Q15\n",
    "How do you get a list value&#39;s tuple form? How do you get a tuple value&#39;s list form?"
   ]
  },
  {
   "cell_type": "markdown",
   "id": "a49442c8",
   "metadata": {},
   "source": [
    "tuple() and list()"
   ]
  },
  {
   "cell_type": "code",
   "execution_count": 21,
   "id": "029f21e4",
   "metadata": {},
   "outputs": [
    {
     "data": {
      "text/plain": [
       "('a', 'b', 'c', 'd')"
      ]
     },
     "execution_count": 21,
     "metadata": {},
     "output_type": "execute_result"
    }
   ],
   "source": [
    "tuple(spam)"
   ]
  },
  {
   "cell_type": "code",
   "execution_count": 22,
   "id": "1b997723",
   "metadata": {},
   "outputs": [
    {
     "data": {
      "text/plain": [
       "[42]"
      ]
     },
     "execution_count": 22,
     "metadata": {},
     "output_type": "execute_result"
    }
   ],
   "source": [
    "list(x)"
   ]
  },
  {
   "cell_type": "markdown",
   "id": "a67fc961",
   "metadata": {},
   "source": [
    "# Q16\n",
    "Variables that &quot;contain&quot; list values are not necessarily lists themselves. Instead, what do they\n",
    "contain?"
   ]
  },
  {
   "cell_type": "markdown",
   "id": "d567dd16",
   "metadata": {},
   "source": [
    "They are just a reference to the values in a list"
   ]
  },
  {
   "cell_type": "markdown",
   "id": "05e30528",
   "metadata": {},
   "source": [
    "# Q17\n",
    "How do you distinguish between copy.copy() and copy.deepcopy()?"
   ]
  },
  {
   "cell_type": "markdown",
   "id": "20001282",
   "metadata": {},
   "source": [
    "copy.deepcopy() will copy everything inside a list.Even a list containing a list whereas copy.copy() will do a overhead copy of a list"
   ]
  },
  {
   "cell_type": "code",
   "execution_count": null,
   "id": "30e021af",
   "metadata": {},
   "outputs": [],
   "source": []
  }
 ],
 "metadata": {
  "kernelspec": {
   "display_name": "Python 3 (ipykernel)",
   "language": "python",
   "name": "python3"
  },
  "language_info": {
   "codemirror_mode": {
    "name": "ipython",
    "version": 3
   },
   "file_extension": ".py",
   "mimetype": "text/x-python",
   "name": "python",
   "nbconvert_exporter": "python",
   "pygments_lexer": "ipython3",
   "version": "3.9.7"
  }
 },
 "nbformat": 4,
 "nbformat_minor": 5
}
