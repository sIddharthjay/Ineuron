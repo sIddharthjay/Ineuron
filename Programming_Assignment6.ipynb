{
 "cells": [
  {
   "cell_type": "markdown",
   "id": "3ccb77cb",
   "metadata": {},
   "source": [
    "# Q1.\n",
    "Write a Python Program to Display Fibonacci Sequence Using Recursion?"
   ]
  },
  {
   "cell_type": "code",
   "execution_count": 36,
   "id": "b5f2d231",
   "metadata": {},
   "outputs": [
    {
     "name": "stdout",
     "output_type": "stream",
     "text": [
      "Enter the terms? 10\n",
      "Fibonacci sequence:\n",
      "0\n",
      "1\n",
      "1\n",
      "2\n",
      "3\n",
      "5\n",
      "8\n",
      "13\n",
      "21\n",
      "34\n"
     ]
    }
   ],
   "source": [
    "def FibRec(a):  \n",
    "    if a <= 1:  \n",
    "        return a  \n",
    "    else:  \n",
    "        return(FibRec(a-1) + FibRec(a-2))  \n",
    "\n",
    "aterms = int(input(\"Enter the terms? \")) \n",
    "\n",
    "  \n",
    "if aterms <= 0:  \n",
    "    print(\"Please enter a positive integer\")  \n",
    "\n",
    "else:  \n",
    "    print(\"Fibonacci sequence:\")  \n",
    "    for z in range(aterms):  \n",
    "        print(FibRec(z))"
   ]
  },
  {
   "cell_type": "markdown",
   "id": "db802a3f",
   "metadata": {},
   "source": [
    "# Q2\n",
    "Write a Python Program to Find Factorial of Number Using Recursion?"
   ]
  },
  {
   "cell_type": "code",
   "execution_count": null,
   "id": "e4fa018a",
   "metadata": {},
   "outputs": [],
   "source": [
    "def factorial(n):\n",
    "    if n == 1:\n",
    "        return n\n",
    "    else:\n",
    "        return n*recur_factorial(n-1)\n",
    "\n",
    "if n < 0:\n",
    "       print(\"Sorry, factorial does not exist for negative numbers\")\n",
    "elif n == 0:\n",
    "       print(\"The factorial of 0 is 1\")\n",
    "else:\n",
    "       print(\"The factorial of\", n, \"is\", factorial(n))"
   ]
  },
  {
   "cell_type": "code",
   "execution_count": 28,
   "id": "75308504",
   "metadata": {},
   "outputs": [
    {
     "data": {
      "text/plain": [
       "3628800"
      ]
     },
     "execution_count": 28,
     "metadata": {},
     "output_type": "execute_result"
    }
   ],
   "source": [
    "factorial(10)"
   ]
  },
  {
   "cell_type": "markdown",
   "id": "e48daf25",
   "metadata": {},
   "source": [
    "# Q3\n",
    "Write a Python Program to calculate your Body Mass Index?"
   ]
  },
  {
   "cell_type": "markdown",
   "id": "0fd134f1",
   "metadata": {},
   "source": [
    "BMI = kg/m2"
   ]
  },
  {
   "cell_type": "code",
   "execution_count": 1,
   "id": "84d1555d",
   "metadata": {},
   "outputs": [
    {
     "name": "stdout",
     "output_type": "stream",
     "text": [
      "Enter your weight in kg : 81\n",
      "Enter your height in meters: 1.81\n",
      "Your bmi is :  24.724520008546747\n",
      "You are Healthy\n"
     ]
    }
   ],
   "source": [
    "weight=float(input(\"Enter your weight in kg : \"))\n",
    "height=float(input(\"Enter your height in meters: \"))\n",
    "bmi=weight/(height**2)\n",
    "print(\"Your bmi is : \",bmi)\n",
    "if bmi<16:\n",
    "    print(\"You are severly underweight\")\n",
    "elif bmi >= 16 and bmi < 18.5:\n",
    "    print(\"You are underweight\")\n",
    "elif bmi >= 18.5 and bmi < 25:\n",
    "    print(\"You are Healthy\")\n",
    "elif bmi >= 25 and bmi < 30:\n",
    "    print(\"You are overweight\")\n",
    "elif bmi >=30:\n",
    "    print(\"You are severely overweight\")"
   ]
  },
  {
   "cell_type": "markdown",
   "id": "de656ca5",
   "metadata": {},
   "source": [
    "# Q4\n",
    "Write a Python Program to calculate the natural logarithm of any number?"
   ]
  },
  {
   "cell_type": "code",
   "execution_count": 2,
   "id": "3b4a2ecd",
   "metadata": {},
   "outputs": [],
   "source": [
    "import math"
   ]
  },
  {
   "cell_type": "code",
   "execution_count": 3,
   "id": "d7e2bd20",
   "metadata": {},
   "outputs": [
    {
     "name": "stdout",
     "output_type": "stream",
     "text": [
      "Enter a number : 12\n",
      "The natural logarithm of 12.0 is 2.4849066497880004\n"
     ]
    }
   ],
   "source": [
    "number=float(input(\"Enter a number : \"))\n",
    "x=math.log(number)\n",
    "print(\"The natural logarithm of {0} is {1}\".format(number,x))"
   ]
  },
  {
   "cell_type": "markdown",
   "id": "bd0a381f",
   "metadata": {},
   "source": [
    "# Q5\n",
    "Write a Python Program for cube sum of first n natural numbers?"
   ]
  },
  {
   "cell_type": "code",
   "execution_count": 9,
   "id": "045f22ce",
   "metadata": {},
   "outputs": [
    {
     "name": "stdout",
     "output_type": "stream",
     "text": [
      "Enter the number of terms in the series7\n",
      "The cube sum of 7 series is 784\n"
     ]
    }
   ],
   "source": [
    "n=int(input(\"Enter the number of terms in the series\"))\n",
    "add=0\n",
    "\n",
    "for i in range(1,n+1):\n",
    "    add+=i**3\n",
    "    \n",
    "print(\"The cube sum of {0} series is {1}\".format(n,add))"
   ]
  }
 ],
 "metadata": {
  "kernelspec": {
   "display_name": "Python 3 (ipykernel)",
   "language": "python",
   "name": "python3"
  },
  "language_info": {
   "codemirror_mode": {
    "name": "ipython",
    "version": 3
   },
   "file_extension": ".py",
   "mimetype": "text/x-python",
   "name": "python",
   "nbconvert_exporter": "python",
   "pygments_lexer": "ipython3",
   "version": "3.9.7"
  }
 },
 "nbformat": 4,
 "nbformat_minor": 5
}
