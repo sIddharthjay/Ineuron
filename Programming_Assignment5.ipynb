{
 "cells": [
  {
   "cell_type": "markdown",
   "id": "3ccb77cb",
   "metadata": {},
   "source": [
    "# Q1.\n",
    "Write a Python Program to Find LCM?"
   ]
  },
  {
   "cell_type": "code",
   "execution_count": 1,
   "id": "97f46970",
   "metadata": {},
   "outputs": [
    {
     "name": "stdout",
     "output_type": "stream",
     "text": [
      "Enter the first number : 20\n",
      "Enter the second number : 25\n",
      "The LCM is 100\n"
     ]
    }
   ],
   "source": [
    "num1=int(input(\"Enter the first number : \"))\n",
    "num2=int(input(\"Enter the second number : \"))\n",
    "if num1>num2:\n",
    "    high_number=num1\n",
    "else:\n",
    "    high_number=num2\n",
    "while(True):\n",
    "    if (high_number%num1==0 and high_number%num2==0):\n",
    "        print(\"The LCM is\",high_number)\n",
    "        break\n",
    "    high_number+=1"
   ]
  },
  {
   "cell_type": "markdown",
   "id": "db802a3f",
   "metadata": {},
   "source": [
    "# Q2\n",
    "Write a Python Program to Find HCF?"
   ]
  },
  {
   "cell_type": "code",
   "execution_count": 2,
   "id": "c079398f",
   "metadata": {},
   "outputs": [
    {
     "name": "stdout",
     "output_type": "stream",
     "text": [
      "Enter the first number : 20\n",
      "Enter the second number : 25\n",
      "The HCF is 5\n"
     ]
    }
   ],
   "source": [
    "num1=int(input(\"Enter the first number : \"))\n",
    "num2=int(input(\"Enter the second number : \"))\n",
    "if num1<num2:\n",
    "    lower_number=num1\n",
    "else:\n",
    "    lower_number=num2\n",
    "while(True):\n",
    "    if(num1%lower_number==0 and num2%lower_number==0):\n",
    "        print(\"The HCF is\",lower_number)\n",
    "        break\n",
    "    lower_number-=1"
   ]
  },
  {
   "cell_type": "markdown",
   "id": "e48daf25",
   "metadata": {},
   "source": [
    "# Q3\n",
    "Write a Python Program to Convert Decimal to Binary, Octal and Hexadecimal?"
   ]
  },
  {
   "cell_type": "code",
   "execution_count": 3,
   "id": "0de7b33d",
   "metadata": {},
   "outputs": [
    {
     "name": "stdout",
     "output_type": "stream",
     "text": [
      "Which system do you want to convert it to?\n",
      "1.Binary\n",
      "2.Octal\n",
      "3.Hexadecimal\n",
      "Enter the serial no.1\n",
      "Enter a number : 19\n",
      "0b10011\n",
      "Do you want to convert another number?(y/n)n\n"
     ]
    }
   ],
   "source": [
    "#We will use the in built functions by python - bin(),oct(),hex()\n",
    "print(\"Which system do you want to convert it to?\")\n",
    "print(\"1.Binary\")\n",
    "print(\"2.Octal\")\n",
    "print(\"3.Hexadecimal\")\n",
    "\n",
    "\n",
    "while(True):\n",
    "    system=int(input(\"Enter the serial no.\"))\n",
    "    num=int(input(\"Enter a number : \"))\n",
    "    if system==1:\n",
    "        print(bin(num))\n",
    "    elif system==2:\n",
    "        print(oct(num))\n",
    "    elif system==3:\n",
    "        print(hex(num))\n",
    "    \n",
    "    choice=input(\"Do you want to convert another number?(y/n)\")\n",
    "    if choice==\"n\":\n",
    "        break"
   ]
  },
  {
   "cell_type": "markdown",
   "id": "de656ca5",
   "metadata": {},
   "source": [
    "# Q4\n",
    "Write a Python Program To Find ASCII value of a character?"
   ]
  },
  {
   "cell_type": "code",
   "execution_count": 4,
   "id": "9b3b14e5",
   "metadata": {},
   "outputs": [
    {
     "name": "stdout",
     "output_type": "stream",
     "text": [
      "Enter a character to find it's ASCII value : g\n",
      "The ASCII value of g is 103\n"
     ]
    }
   ],
   "source": [
    "letter=input(\"Enter a character to find it's ASCII value : \")\n",
    "print(\"The ASCII value of\",letter,\"is\",ord(letter)) #ord function will convert the string into an integer respresenting the ASCII value"
   ]
  },
  {
   "cell_type": "markdown",
   "id": "bd0a381f",
   "metadata": {},
   "source": [
    "# Q5\n",
    "Write a Python Program to Make a Simple Calculator with 4 basic mathematical operations?"
   ]
  },
  {
   "cell_type": "code",
   "execution_count": 5,
   "id": "a6d5d715",
   "metadata": {},
   "outputs": [
    {
     "name": "stdout",
     "output_type": "stream",
     "text": [
      "This calculator will allow you to do basic operations on two numbers.\n",
      "Please choose one of the options.\n",
      "1.Add\n",
      "2.Subtract\n",
      "3.Divide\n",
      "4.Multiply\n",
      "Enter serial no. of the operation4\n",
      "Enter the first number : 98\n",
      "Enter the second number : 99\n",
      "98 * 99 = 9702\n",
      "Do you want to calculate again?(y/n)y\n",
      "Enter serial no. of the operation3\n",
      "Enter the first number : 100\n",
      "Enter the second number : 10\n",
      "100 / 10 = 10.0\n",
      "Do you want to calculate again?(y/n)n\n"
     ]
    }
   ],
   "source": [
    "#Making a simple calculator that does basic operations on two numbers*\n",
    "def add(a,b):\n",
    "    return a+b\n",
    "def sub(a,b):\n",
    "    return a-b\n",
    "def divide(a,b):\n",
    "    return a/b\n",
    "def multiply(a,b):\n",
    "    return a*b\n",
    "#Taking inputs from the user\n",
    "print(\"This calculator will allow you to do basic operations on two numbers.\")\n",
    "print(\"Please choose one of the options.\")\n",
    "print(\"1.Add\")\n",
    "print(\"2.Subtract\")\n",
    "print(\"3.Divide\")\n",
    "print(\"4.Multiply\")\n",
    "\n",
    "while True:\n",
    "    option=int(input(\"Enter serial no. of the operation\"))\n",
    "    num1=int(input(\"Enter the first number : \"))\n",
    "    num2=int(input(\"Enter the second number : \"))\n",
    "    if option==1:\n",
    "            print(num1,\"+\",num2,\"=\",add(num1,num2))\n",
    "    if option==2:\n",
    "            print(num1,\"-\",num2,\"=\",sub(num1,num2))\n",
    "    if option==3:\n",
    "            print(num1,\"/\",num2,\"=\",divide(num1,num2))\n",
    "    if option==4:\n",
    "            print(num1,\"*\",num2,\"=\",multiply(num1,num2))\n",
    "    next=input(\"Do you want to calculate again?(y/n)\")\n",
    "    if next==\"n\":\n",
    "        break\n",
    "            "
   ]
  },
  {
   "cell_type": "code",
   "execution_count": null,
   "id": "045f22ce",
   "metadata": {},
   "outputs": [],
   "source": []
  }
 ],
 "metadata": {
  "kernelspec": {
   "display_name": "Python 3 (ipykernel)",
   "language": "python",
   "name": "python3"
  },
  "language_info": {
   "codemirror_mode": {
    "name": "ipython",
    "version": 3
   },
   "file_extension": ".py",
   "mimetype": "text/x-python",
   "name": "python",
   "nbconvert_exporter": "python",
   "pygments_lexer": "ipython3",
   "version": "3.9.7"
  }
 },
 "nbformat": 4,
 "nbformat_minor": 5
}
