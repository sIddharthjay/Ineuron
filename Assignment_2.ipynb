{
 "cells": [
  {
   "cell_type": "markdown",
   "id": "42bd141f",
   "metadata": {},
   "source": [
    "# Q1\n",
    "What are the two values of the Boolean data type? How do you write them?"
   ]
  },
  {
   "cell_type": "markdown",
   "id": "fdc8251f",
   "metadata": {},
   "source": [
    "The boolean value can be of two types , True or False with the inital letter in uppercase"
   ]
  },
  {
   "cell_type": "code",
   "execution_count": 2,
   "id": "23c20001",
   "metadata": {},
   "outputs": [
    {
     "data": {
      "text/plain": [
       "bool"
      ]
     },
     "execution_count": 2,
     "metadata": {},
     "output_type": "execute_result"
    }
   ],
   "source": [
    "a=True\n",
    "type(a)"
   ]
  },
  {
   "cell_type": "code",
   "execution_count": 4,
   "id": "8cbf922a",
   "metadata": {},
   "outputs": [
    {
     "data": {
      "text/plain": [
       "bool"
      ]
     },
     "execution_count": 4,
     "metadata": {},
     "output_type": "execute_result"
    }
   ],
   "source": [
    "b=False\n",
    "type(b)"
   ]
  },
  {
   "cell_type": "markdown",
   "id": "d7a68a62",
   "metadata": {},
   "source": [
    "# Q2\n",
    "What are the three different types of Boolean operators?"
   ]
  },
  {
   "cell_type": "markdown",
   "id": "7e0a3376",
   "metadata": {},
   "source": [
    "The three different boolean operators are AND, OR, and NOT"
   ]
  },
  {
   "cell_type": "markdown",
   "id": "6f949bad",
   "metadata": {},
   "source": [
    "# Q3\n",
    "Make a list of each Boolean operator&#39;s truth tables (i.e. every possible combination of Boolean\n",
    "values for the operator and what it evaluate )."
   ]
  },
  {
   "cell_type": "markdown",
   "id": "bbc2efa2",
   "metadata": {},
   "source": [
    "### And\n",
    "1. True and True = True\n",
    "2. False and False = False\n",
    "3. True and False = False\n",
    "4. False and True = False"
   ]
  },
  {
   "cell_type": "markdown",
   "id": "c45152e7",
   "metadata": {},
   "source": [
    "### Or\n",
    "1. True or True = True\n",
    "2. True or False = True\n",
    "3. False or False = False\n",
    "4. False or True = True"
   ]
  },
  {
   "cell_type": "markdown",
   "id": "90d60053",
   "metadata": {},
   "source": [
    "### Not\n",
    "1. not True = False\n",
    "2. not False = True"
   ]
  },
  {
   "cell_type": "markdown",
   "id": "0fee715c",
   "metadata": {},
   "source": [
    "# Q4\n",
    "What are the values of the following expressions?"
   ]
  },
  {
   "cell_type": "code",
   "execution_count": 18,
   "id": "7c0e017e",
   "metadata": {},
   "outputs": [
    {
     "data": {
      "text/plain": [
       "False"
      ]
     },
     "execution_count": 18,
     "metadata": {},
     "output_type": "execute_result"
    }
   ],
   "source": [
    "5>4 and 3==5"
   ]
  },
  {
   "cell_type": "code",
   "execution_count": 17,
   "id": "787b8972",
   "metadata": {},
   "outputs": [
    {
     "data": {
      "text/plain": [
       "False"
      ]
     },
     "execution_count": 17,
     "metadata": {},
     "output_type": "execute_result"
    }
   ],
   "source": [
    "not(5>4)"
   ]
  },
  {
   "cell_type": "code",
   "execution_count": 19,
   "id": "1b1eace9",
   "metadata": {},
   "outputs": [
    {
     "data": {
      "text/plain": [
       "True"
      ]
     },
     "execution_count": 19,
     "metadata": {},
     "output_type": "execute_result"
    }
   ],
   "source": [
    "5>4 or 3==5"
   ]
  },
  {
   "cell_type": "code",
   "execution_count": 20,
   "id": "03798cf2",
   "metadata": {},
   "outputs": [
    {
     "data": {
      "text/plain": [
       "False"
      ]
     },
     "execution_count": 20,
     "metadata": {},
     "output_type": "execute_result"
    }
   ],
   "source": [
    "not(5>4 or 3==5)"
   ]
  },
  {
   "cell_type": "code",
   "execution_count": 21,
   "id": "c1480f81",
   "metadata": {},
   "outputs": [
    {
     "data": {
      "text/plain": [
       "False"
      ]
     },
     "execution_count": 21,
     "metadata": {},
     "output_type": "execute_result"
    }
   ],
   "source": [
    "(True and True) and (True == False)"
   ]
  },
  {
   "cell_type": "code",
   "execution_count": 22,
   "id": "b227f9a4",
   "metadata": {},
   "outputs": [
    {
     "data": {
      "text/plain": [
       "True"
      ]
     },
     "execution_count": 22,
     "metadata": {},
     "output_type": "execute_result"
    }
   ],
   "source": [
    "(not False) or (not True)"
   ]
  },
  {
   "cell_type": "markdown",
   "id": "a1dc52ce",
   "metadata": {},
   "source": [
    "# Q5\n",
    "What are the six comparison operators?"
   ]
  },
  {
   "cell_type": "markdown",
   "id": "2828e7b9",
   "metadata": {},
   "source": [
    "There are six main comparison operators: equal to, not equal to, greater than, greater than or equal to, less than, and less than or equal to."
   ]
  },
  {
   "cell_type": "markdown",
   "id": "c108af06",
   "metadata": {},
   "source": [
    "# Q6\n",
    "How do you tell the difference between the equal to and assignment operators?Describe a\n",
    "condition and when you would use one."
   ]
  },
  {
   "cell_type": "markdown",
   "id": "5c6fac5d",
   "metadata": {},
   "source": [
    "== checks True of False/comparing two values, and = is the assignment operator that captures a value to a variable."
   ]
  },
  {
   "cell_type": "markdown",
   "id": "7783bdef",
   "metadata": {},
   "source": [
    "# Q7\n",
    "Identify the three blocks in this code:"
   ]
  },
  {
   "cell_type": "code",
   "execution_count": 23,
   "id": "ed860284",
   "metadata": {},
   "outputs": [
    {
     "name": "stdout",
     "output_type": "stream",
     "text": [
      "spam\n"
     ]
    }
   ],
   "source": [
    "spam = 0\n",
    "if spam == 10:\n",
    "    print('eggs') #1st block\n",
    "    if spam > 5:\n",
    "        print('bacon') #2nd block\n",
    "    else:\n",
    "        print('ham') #3rd block\n",
    "    print('spam')\n",
    "print('spam')"
   ]
  },
  {
   "cell_type": "markdown",
   "id": "67196460",
   "metadata": {},
   "source": [
    "# Q8\n",
    "Write code that prints Hello if 1 is stored in spam, prints Howdy if 2 is stored in spam, and prints\n",
    "Greetings! if anything else is stored in spam."
   ]
  },
  {
   "cell_type": "code",
   "execution_count": 14,
   "id": "81425506",
   "metadata": {},
   "outputs": [
    {
     "name": "stdout",
     "output_type": "stream",
     "text": [
      "3\n",
      "Greetings!\n"
     ]
    }
   ],
   "source": [
    "spam=int(input())\n",
    "if spam==1:\n",
    "    print(\"Hello\")\n",
    "elif spam==2:\n",
    "    print(\"Howdy\")\n",
    "else:\n",
    "    print(\"Greetings!\")"
   ]
  },
  {
   "cell_type": "markdown",
   "id": "39deabb6",
   "metadata": {},
   "source": [
    "# Q9\n",
    "If your programme is stuck in an endless loop, what keys you’ll press?"
   ]
  },
  {
   "cell_type": "markdown",
   "id": "7ae5648f",
   "metadata": {},
   "source": [
    "Ctrl+C"
   ]
  },
  {
   "cell_type": "markdown",
   "id": "7e0b17bb",
   "metadata": {},
   "source": [
    "# Q10\n",
    "How can you tell the difference between break and continue?"
   ]
  },
  {
   "cell_type": "markdown",
   "id": "4ef6cb85",
   "metadata": {},
   "source": [
    "The continue statement will move the execution to the start of the loop.The break statement will move the execution outside and just after a loop. "
   ]
  },
  {
   "cell_type": "markdown",
   "id": "43a7415a",
   "metadata": {},
   "source": [
    "# Q11\n",
    "In a for loop, what is the difference between range(10), range(0, 10), and range(0, 10, 1)?"
   ]
  },
  {
   "cell_type": "markdown",
   "id": "b6cb9456",
   "metadata": {},
   "source": [
    "The final output is the same, range(10) will pick numbers from the range 0 to 10, range(0,10) will do the same and range(0,10,1) will pick number between 0 to 10 with an increment of 1 "
   ]
  },
  {
   "cell_type": "code",
   "execution_count": 8,
   "id": "89f078af",
   "metadata": {},
   "outputs": [
    {
     "name": "stdout",
     "output_type": "stream",
     "text": [
      "0\n",
      "1\n",
      "2\n",
      "3\n",
      "4\n",
      "5\n",
      "6\n",
      "7\n",
      "8\n",
      "9\n"
     ]
    }
   ],
   "source": [
    "for i in range(10):\n",
    "    print(i)"
   ]
  },
  {
   "cell_type": "code",
   "execution_count": 9,
   "id": "2ca7f230",
   "metadata": {
    "scrolled": true
   },
   "outputs": [
    {
     "name": "stdout",
     "output_type": "stream",
     "text": [
      "0\n",
      "1\n",
      "2\n",
      "3\n",
      "4\n",
      "5\n",
      "6\n",
      "7\n",
      "8\n",
      "9\n"
     ]
    }
   ],
   "source": [
    "for j in range(0,10):\n",
    "    print(j)"
   ]
  },
  {
   "cell_type": "code",
   "execution_count": 10,
   "id": "bf7bd07e",
   "metadata": {},
   "outputs": [
    {
     "name": "stdout",
     "output_type": "stream",
     "text": [
      "0\n",
      "1\n",
      "2\n",
      "3\n",
      "4\n",
      "5\n",
      "6\n",
      "7\n",
      "8\n",
      "9\n"
     ]
    }
   ],
   "source": [
    "for k in range(0,10,1):\n",
    "    print(k)"
   ]
  },
  {
   "cell_type": "markdown",
   "id": "f91a5b1b",
   "metadata": {},
   "source": [
    "# Q12\n",
    "Write a short program that prints the numbers 1 to 10 using a for loop. Then write an equivalent\n",
    "program that prints the numbers 1 to 10 using a while loop."
   ]
  },
  {
   "cell_type": "code",
   "execution_count": 27,
   "id": "52d9f18c",
   "metadata": {
    "scrolled": true
   },
   "outputs": [
    {
     "name": "stdout",
     "output_type": "stream",
     "text": [
      "1\n",
      "2\n",
      "3\n",
      "4\n",
      "5\n",
      "6\n",
      "7\n",
      "8\n",
      "9\n",
      "10\n"
     ]
    }
   ],
   "source": [
    "for i in range(1,11):\n",
    "    print(i)"
   ]
  },
  {
   "cell_type": "code",
   "execution_count": 30,
   "id": "6c6c9613",
   "metadata": {},
   "outputs": [
    {
     "name": "stdout",
     "output_type": "stream",
     "text": [
      "1\n",
      "2\n",
      "3\n",
      "4\n",
      "5\n",
      "6\n",
      "7\n",
      "8\n",
      "9\n",
      "10\n"
     ]
    }
   ],
   "source": [
    "i=1\n",
    "while i<=10:\n",
    "    print(i)\n",
    "    i=i+1"
   ]
  },
  {
   "cell_type": "markdown",
   "id": "1d7fe551",
   "metadata": {},
   "source": [
    "# Q13\n",
    "If you had a function named bacon() inside a module named spam, how would you call it after\n",
    "importing spam?"
   ]
  },
  {
   "cell_type": "code",
   "execution_count": null,
   "id": "72b4336b",
   "metadata": {},
   "outputs": [],
   "source": [
    "spam.bacon()"
   ]
  }
 ],
 "metadata": {
  "kernelspec": {
   "display_name": "Python 3 (ipykernel)",
   "language": "python",
   "name": "python3"
  },
  "language_info": {
   "codemirror_mode": {
    "name": "ipython",
    "version": 3
   },
   "file_extension": ".py",
   "mimetype": "text/x-python",
   "name": "python",
   "nbconvert_exporter": "python",
   "pygments_lexer": "ipython3",
   "version": "3.9.7"
  }
 },
 "nbformat": 4,
 "nbformat_minor": 5
}
