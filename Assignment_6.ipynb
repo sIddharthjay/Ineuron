{
 "cells": [
  {
   "cell_type": "markdown",
   "id": "630d7869",
   "metadata": {},
   "source": [
    "# Q1\n",
    "What are escape characters, and how do you use them?"
   ]
  },
  {
   "cell_type": "markdown",
   "id": "4ac2d43c",
   "metadata": {},
   "source": [
    "We use an escape character to insert characters that are illegal in a string.\n",
    "An escape character is a backslash \\ followed by some characters like \\t , \\n , \\r"
   ]
  },
  {
   "cell_type": "markdown",
   "id": "bdd9ed61",
   "metadata": {},
   "source": [
    "# Q2\n",
    "What do the escape characters n and t stand for?"
   ]
  },
  {
   "cell_type": "markdown",
   "id": "6f3a1a7d",
   "metadata": {},
   "source": [
    "\"\\t\" is a tab, \"\\n\" is a newline"
   ]
  },
  {
   "cell_type": "code",
   "execution_count": 5,
   "id": "3dfd1991",
   "metadata": {},
   "outputs": [
    {
     "name": "stdout",
     "output_type": "stream",
     "text": [
      "my\tname\n"
     ]
    }
   ],
   "source": [
    "print(\"my\\tname\")"
   ]
  },
  {
   "cell_type": "code",
   "execution_count": 6,
   "id": "addd13c3",
   "metadata": {},
   "outputs": [
    {
     "name": "stdout",
     "output_type": "stream",
     "text": [
      "my\n",
      "name\n"
     ]
    }
   ],
   "source": [
    "print(\"my\\nname\")"
   ]
  },
  {
   "cell_type": "markdown",
   "id": "c62dc4b5",
   "metadata": {},
   "source": [
    "# Q3\n",
    "What is the way to include backslash characters in a string?"
   ]
  },
  {
   "cell_type": "markdown",
   "id": "2c2a123e",
   "metadata": {},
   "source": [
    "We can include blackslash characters in a string by using double blackslash.i.e \\\\\\"
   ]
  },
  {
   "cell_type": "code",
   "execution_count": 7,
   "id": "3758f209",
   "metadata": {},
   "outputs": [
    {
     "name": "stdout",
     "output_type": "stream",
     "text": [
      "myname\\is\n"
     ]
    }
   ],
   "source": [
    "print(\"myname\\\\is\")"
   ]
  },
  {
   "cell_type": "markdown",
   "id": "10484e50",
   "metadata": {},
   "source": [
    "# Q4\n",
    "The string &quot;Howl&#39;s Moving Castle&quot; is a correct value. Why isn&#39;t the single quote character in the\n",
    "word Howl&#39;s not escaped a problem?"
   ]
  },
  {
   "cell_type": "markdown",
   "id": "fa6afc14",
   "metadata": {},
   "source": [
    "It's not a problem because we have used double quotes in the start and the end"
   ]
  },
  {
   "cell_type": "markdown",
   "id": "ac18cc1d",
   "metadata": {},
   "source": [
    "# Q5\n",
    "How do you write a string of newlines if you don&#39;t want to use the n character?"
   ]
  },
  {
   "cell_type": "markdown",
   "id": "0aef440c",
   "metadata": {},
   "source": [
    "We can use multiline strings if don't want to use the \\n"
   ]
  },
  {
   "cell_type": "markdown",
   "id": "cdea70b9",
   "metadata": {},
   "source": [
    "# Q6\n",
    "What are the values of the given expressions?"
   ]
  },
  {
   "cell_type": "code",
   "execution_count": 9,
   "id": "c8eb4965",
   "metadata": {},
   "outputs": [
    {
     "data": {
      "text/plain": [
       "'e'"
      ]
     },
     "execution_count": 9,
     "metadata": {},
     "output_type": "execute_result"
    }
   ],
   "source": [
    "\"Hello world!\"[1]"
   ]
  },
  {
   "cell_type": "code",
   "execution_count": 11,
   "id": "6e95650b",
   "metadata": {},
   "outputs": [
    {
     "data": {
      "text/plain": [
       "'Hello'"
      ]
     },
     "execution_count": 11,
     "metadata": {},
     "output_type": "execute_result"
    }
   ],
   "source": [
    "\"Hello world!\"[0:5]"
   ]
  },
  {
   "cell_type": "code",
   "execution_count": 12,
   "id": "6ef10385",
   "metadata": {},
   "outputs": [
    {
     "data": {
      "text/plain": [
       "'Hello'"
      ]
     },
     "execution_count": 12,
     "metadata": {},
     "output_type": "execute_result"
    }
   ],
   "source": [
    "\"Hello world!\"[:5]"
   ]
  },
  {
   "cell_type": "code",
   "execution_count": 10,
   "id": "0707052e",
   "metadata": {},
   "outputs": [
    {
     "data": {
      "text/plain": [
       "'lo world!'"
      ]
     },
     "execution_count": 10,
     "metadata": {},
     "output_type": "execute_result"
    }
   ],
   "source": [
    "\"Hello world!\"[3:]"
   ]
  },
  {
   "cell_type": "markdown",
   "id": "45408458",
   "metadata": {},
   "source": [
    "# Q7\n",
    "What are the values of the following expressions?"
   ]
  },
  {
   "cell_type": "code",
   "execution_count": 13,
   "id": "87b42828",
   "metadata": {},
   "outputs": [
    {
     "data": {
      "text/plain": [
       "'HELLO'"
      ]
     },
     "execution_count": 13,
     "metadata": {},
     "output_type": "execute_result"
    }
   ],
   "source": [
    "'Hello'.upper()"
   ]
  },
  {
   "cell_type": "code",
   "execution_count": 14,
   "id": "d1ddecad",
   "metadata": {},
   "outputs": [
    {
     "data": {
      "text/plain": [
       "True"
      ]
     },
     "execution_count": 14,
     "metadata": {},
     "output_type": "execute_result"
    }
   ],
   "source": [
    "'Hello'.upper().isupper()"
   ]
  },
  {
   "cell_type": "code",
   "execution_count": 15,
   "id": "3771f6fa",
   "metadata": {},
   "outputs": [
    {
     "data": {
      "text/plain": [
       "'hello'"
      ]
     },
     "execution_count": 15,
     "metadata": {},
     "output_type": "execute_result"
    }
   ],
   "source": [
    "'Hello'.upper().lower()"
   ]
  },
  {
   "cell_type": "markdown",
   "id": "353fba57",
   "metadata": {},
   "source": [
    "# Q8\n",
    "What are the values of the following expressions?"
   ]
  },
  {
   "cell_type": "code",
   "execution_count": 16,
   "id": "70d67aad",
   "metadata": {},
   "outputs": [
    {
     "data": {
      "text/plain": [
       "['Remember,', 'remember,', 'the', 'fifth', 'of', 'November.']"
      ]
     },
     "execution_count": 16,
     "metadata": {},
     "output_type": "execute_result"
    }
   ],
   "source": [
    "'Remember, remember, the fifth of November.'.split()"
   ]
  },
  {
   "cell_type": "code",
   "execution_count": 17,
   "id": "6a2d02a6",
   "metadata": {},
   "outputs": [
    {
     "data": {
      "text/plain": [
       "'There-can-be-only-one.'"
      ]
     },
     "execution_count": 17,
     "metadata": {},
     "output_type": "execute_result"
    }
   ],
   "source": [
    "'-'.join('There can be only one.'.split())"
   ]
  },
  {
   "cell_type": "markdown",
   "id": "1dec8e7e",
   "metadata": {},
   "source": [
    "# Q9\n",
    "What are the methods for right-justifying, left-justifying, and centering a string?"
   ]
  },
  {
   "cell_type": "markdown",
   "id": "89218417",
   "metadata": {},
   "source": [
    "By using rjust(), ljust(), and center() "
   ]
  },
  {
   "cell_type": "code",
   "execution_count": 18,
   "id": "b9430d67",
   "metadata": {},
   "outputs": [
    {
     "name": "stdout",
     "output_type": "stream",
     "text": [
      "              banana is my favorite fruit.\n"
     ]
    }
   ],
   "source": [
    "txt = \"banana\"\n",
    "\n",
    "x = txt.rjust(20)\n",
    "\n",
    "print(x, \"is my favorite fruit.\")"
   ]
  },
  {
   "cell_type": "code",
   "execution_count": 19,
   "id": "581eb5bb",
   "metadata": {},
   "outputs": [
    {
     "name": "stdout",
     "output_type": "stream",
     "text": [
      "banana               is my favorite fruit.\n"
     ]
    }
   ],
   "source": [
    "txt = \"banana\"\n",
    "\n",
    "x = txt.ljust(20)\n",
    "\n",
    "print(x, \"is my favorite fruit.\")"
   ]
  },
  {
   "cell_type": "code",
   "execution_count": 20,
   "id": "d701344b",
   "metadata": {},
   "outputs": [
    {
     "name": "stdout",
     "output_type": "stream",
     "text": [
      "       banana        is my favorite fruit.\n"
     ]
    }
   ],
   "source": [
    "txt = \"banana\"\n",
    "\n",
    "x = txt.center(20)\n",
    "\n",
    "print(x, \"is my favorite fruit.\")"
   ]
  },
  {
   "cell_type": "markdown",
   "id": "995a28bd",
   "metadata": {},
   "source": [
    "# Q10\n",
    "What is the best way to remove whitespace characters from the start or end?"
   ]
  },
  {
   "cell_type": "markdown",
   "id": "80a25da1",
   "metadata": {},
   "source": [
    "By using lstrip() and rstrip() or strip()"
   ]
  },
  {
   "cell_type": "code",
   "execution_count": 28,
   "id": "a0aacb13",
   "metadata": {},
   "outputs": [],
   "source": [
    "txt=\"------banana--------\""
   ]
  },
  {
   "cell_type": "code",
   "execution_count": 29,
   "id": "617eefa9",
   "metadata": {},
   "outputs": [
    {
     "name": "stdout",
     "output_type": "stream",
     "text": [
      "banana--------\n"
     ]
    }
   ],
   "source": [
    "print(txt.lstrip(\"-\"))"
   ]
  },
  {
   "cell_type": "code",
   "execution_count": 30,
   "id": "6375f0a5",
   "metadata": {},
   "outputs": [
    {
     "name": "stdout",
     "output_type": "stream",
     "text": [
      "------banana\n"
     ]
    }
   ],
   "source": [
    "print(txt.rstrip(\"-\"))"
   ]
  },
  {
   "cell_type": "code",
   "execution_count": 31,
   "id": "2a60e8ca",
   "metadata": {},
   "outputs": [
    {
     "name": "stdout",
     "output_type": "stream",
     "text": [
      "banana\n"
     ]
    }
   ],
   "source": [
    "print(txt.strip(\"-\"))"
   ]
  }
 ],
 "metadata": {
  "kernelspec": {
   "display_name": "Python 3 (ipykernel)",
   "language": "python",
   "name": "python3"
  },
  "language_info": {
   "codemirror_mode": {
    "name": "ipython",
    "version": 3
   },
   "file_extension": ".py",
   "mimetype": "text/x-python",
   "name": "python",
   "nbconvert_exporter": "python",
   "pygments_lexer": "ipython3",
   "version": "3.9.7"
  }
 },
 "nbformat": 4,
 "nbformat_minor": 5
}
