{
 "cells": [
  {
   "cell_type": "markdown",
   "id": "630d7869",
   "metadata": {},
   "source": [
    "# Q1\n",
    "How do you distinguish between shutil.copy() and shutil.copytree()?"
   ]
  },
  {
   "cell_type": "markdown",
   "id": "954a9e96",
   "metadata": {},
   "source": [
    "While shutil.copy() will copy a single file, shutil.copytree() will copy an entire folder and every folder and file contained in it. Calling shutil.copytree(source, destination) will copy the folder at the path source, along with all of its files and subfolders, to the folder at the path destination"
   ]
  },
  {
   "cell_type": "code",
   "execution_count": 4,
   "id": "5511dcdf",
   "metadata": {},
   "outputs": [],
   "source": [
    "import shutil,os"
   ]
  },
  {
   "cell_type": "code",
   "execution_count": 5,
   "id": "5b025880",
   "metadata": {},
   "outputs": [
    {
     "data": {
      "text/plain": [
       "'C:\\\\Users\\\\jayag\\\\Documents\\\\Ineuron\\\\Assignments\\\\Python'"
      ]
     },
     "execution_count": 5,
     "metadata": {},
     "output_type": "execute_result"
    }
   ],
   "source": [
    "pwd()"
   ]
  },
  {
   "cell_type": "code",
   "execution_count": 6,
   "id": "f65239cb",
   "metadata": {},
   "outputs": [],
   "source": [
    "os.chdir(\"C://Users//jayag//Documents//Ineuron/testfiles/\")"
   ]
  },
  {
   "cell_type": "code",
   "execution_count": 7,
   "id": "49d4cbd7",
   "metadata": {},
   "outputs": [
    {
     "data": {
      "text/plain": [
       "'C://Users/jayag/Documents/Ineuron/testfiles_backup\\\\test.txt'"
      ]
     },
     "execution_count": 7,
     "metadata": {},
     "output_type": "execute_result"
    }
   ],
   "source": [
    "shutil.copy(\"C://Users//jayag//Documents//Ineuron/testfiles/test.txt\",\"C://Users/jayag/Documents/Ineuron/testfiles_backup\")"
   ]
  },
  {
   "cell_type": "code",
   "execution_count": 11,
   "id": "f2322471",
   "metadata": {},
   "outputs": [
    {
     "data": {
      "text/plain": [
       "'C://Users/jayag/Documents/Ineuron/testfiles_backup'"
      ]
     },
     "execution_count": 11,
     "metadata": {},
     "output_type": "execute_result"
    }
   ],
   "source": [
    "shutil.copytree(\"C://Users//jayag//Documents//Ineuron/testfiles\",\"C://Users/jayag/Documents/Ineuron/testfiles_backup\")"
   ]
  },
  {
   "cell_type": "markdown",
   "id": "bdd9ed61",
   "metadata": {},
   "source": [
    "# Q2\n",
    "What function is used to rename files??"
   ]
  },
  {
   "cell_type": "markdown",
   "id": "4bf8d028",
   "metadata": {},
   "source": [
    "os.rename() method in Python is used to rename a file or directory."
   ]
  },
  {
   "cell_type": "markdown",
   "id": "c62dc4b5",
   "metadata": {},
   "source": [
    "# Q3\n",
    "What is the difference between the delete functions in the send2trash and shutil modules?"
   ]
  },
  {
   "cell_type": "markdown",
   "id": "97b9f06d",
   "metadata": {},
   "source": [
    "As the name suggest , send 2 trash will send a file/folder to the recycle bin whereas the shutil function will delete it permenantly"
   ]
  },
  {
   "cell_type": "markdown",
   "id": "ac18cc1d",
   "metadata": {},
   "source": [
    "# Q4\n",
    "ZipFile objects have a close() method just like File objects’ close() method. What ZipFile method is\n",
    "equivalent to File objects’ open() method?"
   ]
  },
  {
   "cell_type": "markdown",
   "id": "1c6286a4",
   "metadata": {},
   "source": [
    "We can open a zip file using zipfile.ZipFile() funnction with paramenters like the path and the way to open it like writing, reading or appending"
   ]
  },
  {
   "cell_type": "markdown",
   "id": "2bcbe2fc",
   "metadata": {},
   "source": [
    "# Q5\n",
    "Create a programme that searches a folder tree for files with a certain file extension (such as .pdf\n",
    "or .jpg). Copy these files from whatever location they are in to a new folder."
   ]
  },
  {
   "cell_type": "code",
   "execution_count": 12,
   "id": "26992439",
   "metadata": {},
   "outputs": [
    {
     "data": {
      "text/plain": [
       "'C:\\\\Users\\\\jayag\\\\Documents\\\\Ineuron\\\\testfiles'"
      ]
     },
     "execution_count": 12,
     "metadata": {},
     "output_type": "execute_result"
    }
   ],
   "source": [
    "pwd()"
   ]
  },
  {
   "cell_type": "code",
   "execution_count": 14,
   "id": "339053f9",
   "metadata": {},
   "outputs": [],
   "source": [
    "os.chdir(\"C://Users//jayag//Documents//Ineuron\")"
   ]
  },
  {
   "cell_type": "code",
   "execution_count": 15,
   "id": "1c5517b1",
   "metadata": {},
   "outputs": [
    {
     "name": "stdout",
     "output_type": "stream",
     "text": [
      "Looking in C:\\Users\\jayag\\Documents\\Ineuron\\randomFolder for files with extensions of .pdf, .jpg\n",
      "Coping C:\\Users\\jayag\\Documents\\Ineuron\\randomFolder\\106A9161.jpg to C:\\Users\\jayag\\Documents\\Ineuron\\selectiveFolder\n"
     ]
    }
   ],
   "source": [
    "def selectiveCopy(folder, extensions, destFolder):\n",
    "    folder = os.path.abspath(folder)\n",
    "    destFolder = os.path.abspath(destFolder)\n",
    "    print('Looking in', folder, 'for files with extensions of', ', '.join(extensions))\n",
    "    for foldername, subfolders, filenames in os.walk(folder):\n",
    "        for filename in filenames:\n",
    "            name, extension = os.path.splitext(filename)\n",
    "            if extension in extensions:\n",
    "                fileAbsPath = foldername + os.path.sep + filename\n",
    "                print('Coping', fileAbsPath, 'to', destFolder)\n",
    "                shutil.copy(fileAbsPath, destFolder)\n",
    "\n",
    "extensions = ['.pdf', '.jpg']\n",
    "folder = 'randomFolder'\n",
    "destFolder = 'selectiveFolder'\n",
    "selectiveCopy(folder, extensions, destFolder)"
   ]
  }
 ],
 "metadata": {
  "kernelspec": {
   "display_name": "Python 3 (ipykernel)",
   "language": "python",
   "name": "python3"
  },
  "language_info": {
   "codemirror_mode": {
    "name": "ipython",
    "version": 3
   },
   "file_extension": ".py",
   "mimetype": "text/x-python",
   "name": "python",
   "nbconvert_exporter": "python",
   "pygments_lexer": "ipython3",
   "version": "3.9.7"
  }
 },
 "nbformat": 4,
 "nbformat_minor": 5
}
