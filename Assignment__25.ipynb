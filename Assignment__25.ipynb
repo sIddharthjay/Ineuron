{
 "cells": [
  {
   "cell_type": "markdown",
   "id": "630d7869",
   "metadata": {},
   "source": [
    "# Q1\n",
    "What is the difference between enclosing a list comprehension in square brackets and\n",
    "parentheses?"
   ]
  },
  {
   "cell_type": "markdown",
   "id": "85034ea2",
   "metadata": {},
   "source": [
    "The difference between the two kinds of expressions is that the List comprehension is enclosed in square brackets [] while the Generator expression is enclosed in plain parentheses (). This Generator Expression, returns an object that can be iterated over"
   ]
  },
  {
   "cell_type": "code",
   "execution_count": 3,
   "id": "55965b16",
   "metadata": {},
   "outputs": [
    {
     "name": "stdout",
     "output_type": "stream",
     "text": [
      "['apple', 'banana', 'mango']\n"
     ]
    }
   ],
   "source": [
    "fruits = [\"apple\", \"banana\", \"cherry\", \"kiwi\", \"mango\"]\n",
    "\n",
    "newlist = [x for x in fruits if \"a\" in x]\n",
    "\n",
    "print(newlist)"
   ]
  },
  {
   "cell_type": "code",
   "execution_count": 4,
   "id": "fa26daec",
   "metadata": {},
   "outputs": [
    {
     "name": "stdout",
     "output_type": "stream",
     "text": [
      "<generator object <genexpr> at 0x00000190E62BC820>\n"
     ]
    }
   ],
   "source": [
    "fruits = [\"apple\", \"banana\", \"cherry\", \"kiwi\", \"mango\"]\n",
    "\n",
    "newlist1 = (x for x in fruits if \"a\" in x)\n",
    "\n",
    "print(newlist1)"
   ]
  },
  {
   "cell_type": "markdown",
   "id": "bdd9ed61",
   "metadata": {},
   "source": [
    "# Q2\n",
    "What is the relationship between generators and iterators?"
   ]
  },
  {
   "cell_type": "markdown",
   "id": "4ffeced1",
   "metadata": {},
   "source": [
    "Generator in python is a subclass of Iterator.Every generator is an iterator in Python, not every python iterator is a generator. In creating a python generator, we use a function. But in creating an iterator in python, we use the iter() and next() functions.\n",
    "A generator in python makes use of the ‘yield’ keyword. A python iterator doesn’t."
   ]
  },
  {
   "cell_type": "markdown",
   "id": "c62dc4b5",
   "metadata": {},
   "source": [
    "# Q3\n",
    "What are the signs that a function is a generator function?"
   ]
  },
  {
   "cell_type": "markdown",
   "id": "2047c36e",
   "metadata": {},
   "source": [
    "If a function contains at least one yield statement (it may contain other yield or return statements), it becomes a generator function.When called, it returns an object (iterator) but does not start execution immediately.Once the function yields, the function is paused and the control is transferred to the caller."
   ]
  },
  {
   "cell_type": "markdown",
   "id": "10484e50",
   "metadata": {},
   "source": [
    "# Q4\n",
    "What is the purpose of a yield statement?"
   ]
  },
  {
   "cell_type": "markdown",
   "id": "d32407ea",
   "metadata": {},
   "source": [
    "A yield statement looks much like a return statement, It provides a value to the code looping over the generator and pauses execution of the generator function."
   ]
  },
  {
   "cell_type": "markdown",
   "id": "ac18cc1d",
   "metadata": {},
   "source": [
    "# Q5\n",
    "What is the relationship between map calls and list comprehensions? Make a comparison and\n",
    "contrast between the two."
   ]
  },
  {
   "cell_type": "markdown",
   "id": "d92697dc",
   "metadata": {},
   "source": [
    "List comprehension is more concise and easier to read as compared to map.\n",
    "List comprehension are used when a list of results is required as map only returns a map object and does not return any list.\n",
    "List comprehension is faster than map when we need to evaluate expressions that are too long or complicated to express\n",
    "Map is faster in case of calling an already defined function (as no lambda is required)"
   ]
  }
 ],
 "metadata": {
  "kernelspec": {
   "display_name": "Python 3 (ipykernel)",
   "language": "python",
   "name": "python3"
  },
  "language_info": {
   "codemirror_mode": {
    "name": "ipython",
    "version": 3
   },
   "file_extension": ".py",
   "mimetype": "text/x-python",
   "name": "python",
   "nbconvert_exporter": "python",
   "pygments_lexer": "ipython3",
   "version": "3.9.7"
  }
 },
 "nbformat": 4,
 "nbformat_minor": 5
}
