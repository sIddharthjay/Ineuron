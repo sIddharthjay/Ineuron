{
 "cells": [
  {
   "cell_type": "markdown",
   "id": "3ccb77cb",
   "metadata": {},
   "source": [
    "# Q1.\n",
    "Write a Python program to convert kilometers to miles?"
   ]
  },
  {
   "cell_type": "markdown",
   "id": "f4660bb0",
   "metadata": {},
   "source": [
    "1 km = 0.621371 miles"
   ]
  },
  {
   "cell_type": "code",
   "execution_count": 4,
   "id": "6fde4998",
   "metadata": {},
   "outputs": [
    {
     "name": "stdout",
     "output_type": "stream",
     "text": [
      "Enter your distance in kilometers4\n",
      "Your distance in miles is 2.485484\n"
     ]
    }
   ],
   "source": [
    "kilometers=float(input(\"Enter your distance in kilometers\"))\n",
    "miles=0.621371*kilometers\n",
    "print(\"Your distance in miles is\",miles)"
   ]
  },
  {
   "cell_type": "markdown",
   "id": "db802a3f",
   "metadata": {},
   "source": [
    "# Q2\n",
    "Write a Python program to convert Celsius to Fahrenheit?"
   ]
  },
  {
   "cell_type": "markdown",
   "id": "1f7622f6",
   "metadata": {},
   "source": [
    "Formula : fahrenheit = celsius * 1.8 + 32"
   ]
  },
  {
   "cell_type": "code",
   "execution_count": 6,
   "id": "be3c645c",
   "metadata": {},
   "outputs": [
    {
     "name": "stdout",
     "output_type": "stream",
     "text": [
      "Enter the temperature in celcius14\n",
      "the temperature in fahrenheit is 57.2\n"
     ]
    }
   ],
   "source": [
    "celsius=float(input(\"Enter the temperature in celcius\"))\n",
    "fahrenheit= celsius * 1.8 + 32\n",
    "print(\"the temperature in fahrenheit is\",fahrenheit)"
   ]
  },
  {
   "cell_type": "markdown",
   "id": "e48daf25",
   "metadata": {},
   "source": [
    "# Q3\n",
    "Write a Python program to display calendar?"
   ]
  },
  {
   "cell_type": "code",
   "execution_count": 8,
   "id": "2cd44620",
   "metadata": {},
   "outputs": [],
   "source": [
    "import calendar"
   ]
  },
  {
   "cell_type": "code",
   "execution_count": 9,
   "id": "64155588",
   "metadata": {},
   "outputs": [
    {
     "name": "stdout",
     "output_type": "stream",
     "text": [
      "Enter year2001\n",
      "Enter month5\n"
     ]
    }
   ],
   "source": [
    "year=int(input(\"Enter year\"))\n",
    "month=int(input(\"Enter month\"))"
   ]
  },
  {
   "cell_type": "code",
   "execution_count": 10,
   "id": "1924ad1a",
   "metadata": {},
   "outputs": [
    {
     "name": "stdout",
     "output_type": "stream",
     "text": [
      "      May 2001\n",
      "Mo Tu We Th Fr Sa Su\n",
      "    1  2  3  4  5  6\n",
      " 7  8  9 10 11 12 13\n",
      "14 15 16 17 18 19 20\n",
      "21 22 23 24 25 26 27\n",
      "28 29 30 31\n",
      "\n"
     ]
    }
   ],
   "source": [
    "print(calendar.month(year,month))"
   ]
  },
  {
   "cell_type": "markdown",
   "id": "de656ca5",
   "metadata": {},
   "source": [
    "# Q4\n",
    "Write a Python program to solve quadratic equation?"
   ]
  },
  {
   "cell_type": "markdown",
   "id": "08f265e6",
   "metadata": {},
   "source": [
    "ax**2 + bx + c = 0"
   ]
  },
  {
   "cell_type": "code",
   "execution_count": 12,
   "id": "0678fe7f",
   "metadata": {},
   "outputs": [
    {
     "name": "stdout",
     "output_type": "stream",
     "text": [
      "Value of a:1\n",
      "Value of b:5\n",
      "Value of c:6\n"
     ]
    }
   ],
   "source": [
    "a=float(input(\"Value of a:\"))\n",
    "b=float(input(\"Value of b:\"))\n",
    "c=float(input(\"Value of c:\"))"
   ]
  },
  {
   "cell_type": "code",
   "execution_count": 13,
   "id": "47589fcb",
   "metadata": {},
   "outputs": [
    {
     "name": "stdout",
     "output_type": "stream",
     "text": [
      "the two solutions are -2.0 and -3.0\n"
     ]
    }
   ],
   "source": [
    "x1=(-b+ (b ** 2 - 4 * a * c) ** 0.5) / (2 * a)\n",
    "x2=(-b- (b ** 2 - 4 * a * c) ** 0.5) / (2 * a)\n",
    "\n",
    "print(\"the two solutions are {0} and {1}\".format(x1,x2))"
   ]
  },
  {
   "cell_type": "markdown",
   "id": "bd0a381f",
   "metadata": {},
   "source": [
    "# Q5\n",
    "Write a Python program to swap two variables without temp variable?"
   ]
  },
  {
   "cell_type": "code",
   "execution_count": 18,
   "id": "085c53e0",
   "metadata": {},
   "outputs": [
    {
     "name": "stdout",
     "output_type": "stream",
     "text": [
      "Enter first number: 100\n",
      "Enter second number: 200\n",
      "Old value of int1 is 100 and int2 is 200\n"
     ]
    }
   ],
   "source": [
    "int1 = int(input(\"Enter first number: \"))\n",
    "int2 = int(input(\"Enter second number: \"))\n",
    "print('Old value of int1 is {0} and int2 is {1}'.format(int1, int2))"
   ]
  },
  {
   "cell_type": "code",
   "execution_count": 19,
   "id": "90ea6bcf",
   "metadata": {},
   "outputs": [],
   "source": [
    "int1 = int1 + int2\n",
    "int2 = int1 - int2\n",
    "int1 = int1 - int2"
   ]
  },
  {
   "cell_type": "code",
   "execution_count": 21,
   "id": "0c358de6",
   "metadata": {},
   "outputs": [
    {
     "name": "stdout",
     "output_type": "stream",
     "text": [
      "New value of int1 is 200 and int2 is 100\n"
     ]
    }
   ],
   "source": [
    "print('New value of int1 is {0} and int2 is {1}'.format(int1, int2))"
   ]
  }
 ],
 "metadata": {
  "kernelspec": {
   "display_name": "Python 3 (ipykernel)",
   "language": "python",
   "name": "python3"
  },
  "language_info": {
   "codemirror_mode": {
    "name": "ipython",
    "version": 3
   },
   "file_extension": ".py",
   "mimetype": "text/x-python",
   "name": "python",
   "nbconvert_exporter": "python",
   "pygments_lexer": "ipython3",
   "version": "3.9.7"
  }
 },
 "nbformat": 4,
 "nbformat_minor": 5
}
