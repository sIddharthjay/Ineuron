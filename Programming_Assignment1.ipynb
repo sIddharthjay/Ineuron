{
 "cells": [
  {
   "cell_type": "markdown",
   "id": "3ccb77cb",
   "metadata": {},
   "source": [
    "# Q1.\n",
    "Write a Python program to print &quot;Hello Python&quot;?"
   ]
  },
  {
   "cell_type": "code",
   "execution_count": 46,
   "id": "c1cb33b6",
   "metadata": {},
   "outputs": [
    {
     "name": "stdout",
     "output_type": "stream",
     "text": [
      "Hello Python\n"
     ]
    }
   ],
   "source": [
    "print(\"Hello Python\")"
   ]
  },
  {
   "cell_type": "markdown",
   "id": "db802a3f",
   "metadata": {},
   "source": [
    "# Q2\n",
    "Write a Python program to do arithmetical operations addition and division.?"
   ]
  },
  {
   "cell_type": "code",
   "execution_count": 57,
   "id": "babf91fe",
   "metadata": {},
   "outputs": [],
   "source": [
    "def add(x,y):\n",
    "    return x+y\n",
    "def div(x,y):\n",
    "    return x/y"
   ]
  },
  {
   "cell_type": "code",
   "execution_count": 58,
   "id": "d8ea488a",
   "metadata": {},
   "outputs": [
    {
     "data": {
      "text/plain": [
       "300"
      ]
     },
     "execution_count": 58,
     "metadata": {},
     "output_type": "execute_result"
    }
   ],
   "source": [
    "add(100,200)"
   ]
  },
  {
   "cell_type": "code",
   "execution_count": 59,
   "id": "1d9886d4",
   "metadata": {},
   "outputs": [
    {
     "data": {
      "text/plain": [
       "0.5"
      ]
     },
     "execution_count": 59,
     "metadata": {},
     "output_type": "execute_result"
    }
   ],
   "source": [
    "div(100,200)"
   ]
  },
  {
   "cell_type": "markdown",
   "id": "e48daf25",
   "metadata": {},
   "source": [
    "# Q3\n",
    "Write a Python program to find the area of a triangle?"
   ]
  },
  {
   "cell_type": "markdown",
   "id": "103b5410",
   "metadata": {},
   "source": [
    "Area of a triangle = (s*(s-a)*(s-b)*(s-c)) x 1/2"
   ]
  },
  {
   "cell_type": "code",
   "execution_count": 48,
   "id": "c59c17a0",
   "metadata": {},
   "outputs": [
    {
     "name": "stdout",
     "output_type": "stream",
     "text": [
      "enter side a5\n",
      "enter side b6\n",
      "enter side c7\n",
      "the area of the triangle is  14.696938456699069\n"
     ]
    }
   ],
   "source": [
    "a=float(input(\"enter side a\"))\n",
    "b=float(input(\"enter side b\"))\n",
    "c=float(input(\"enter side c\"))\n",
    "\n",
    "#semiperimeter\n",
    "s= (a+b+c)/2 \n",
    "\n",
    "area=(s*(s-a)*(s-b)*(s-c))**0.5\n",
    "print(\"the area of the triangle is \",area)"
   ]
  },
  {
   "cell_type": "markdown",
   "id": "de656ca5",
   "metadata": {},
   "source": [
    "# Q4\n",
    "Write a Python program to swap two variables?"
   ]
  },
  {
   "cell_type": "code",
   "execution_count": 49,
   "id": "979d2a1e",
   "metadata": {},
   "outputs": [],
   "source": [
    "def swap(x,y):\n",
    "    x,y=y,x\n",
    "    print(\"x is now\",x)\n",
    "    print(\"y is now\",y)"
   ]
  },
  {
   "cell_type": "code",
   "execution_count": 50,
   "id": "19e5e0e4",
   "metadata": {},
   "outputs": [
    {
     "name": "stdout",
     "output_type": "stream",
     "text": [
      "x is now 200\n",
      "y is now 100\n"
     ]
    }
   ],
   "source": [
    "swap(100,200)"
   ]
  },
  {
   "cell_type": "markdown",
   "id": "bd0a381f",
   "metadata": {},
   "source": [
    "# Q5\n",
    "Write a Python program to generate a random number?"
   ]
  },
  {
   "cell_type": "code",
   "execution_count": 51,
   "id": "2603eb07",
   "metadata": {},
   "outputs": [],
   "source": [
    "import random"
   ]
  },
  {
   "cell_type": "code",
   "execution_count": 52,
   "id": "b81e0c2b",
   "metadata": {},
   "outputs": [
    {
     "name": "stdout",
     "output_type": "stream",
     "text": [
      "88\n"
     ]
    }
   ],
   "source": [
    "print(random.randint(0,100))"
   ]
  }
 ],
 "metadata": {
  "kernelspec": {
   "display_name": "Python 3 (ipykernel)",
   "language": "python",
   "name": "python3"
  },
  "language_info": {
   "codemirror_mode": {
    "name": "ipython",
    "version": 3
   },
   "file_extension": ".py",
   "mimetype": "text/x-python",
   "name": "python",
   "nbconvert_exporter": "python",
   "pygments_lexer": "ipython3",
   "version": "3.9.7"
  }
 },
 "nbformat": 4,
 "nbformat_minor": 5
}
