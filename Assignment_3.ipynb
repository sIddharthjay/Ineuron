{
 "cells": [
  {
   "cell_type": "markdown",
   "id": "f4e7bede",
   "metadata": {},
   "source": [
    "# Q1\n",
    "Why are functions advantageous to have in your programs?"
   ]
  },
  {
   "cell_type": "markdown",
   "id": "bb4112d2",
   "metadata": {},
   "source": [
    "It makes program neat and precise,It makes it easier to understand and make changes to a code."
   ]
  },
  {
   "cell_type": "markdown",
   "id": "e957b2a1",
   "metadata": {},
   "source": [
    "# Q2\n",
    "When does the code in a function run: when it&#39;s specified or when it&#39;s called?"
   ]
  },
  {
   "cell_type": "markdown",
   "id": "e04bb6f9",
   "metadata": {},
   "source": [
    "Only when the function is called does the function run"
   ]
  },
  {
   "cell_type": "markdown",
   "id": "912c5d62",
   "metadata": {},
   "source": [
    "# Q3\n",
    "What statement creates a function?"
   ]
  },
  {
   "cell_type": "markdown",
   "id": "9864dae0",
   "metadata": {},
   "source": [
    "def statement"
   ]
  },
  {
   "cell_type": "markdown",
   "id": "01082cf0",
   "metadata": {},
   "source": [
    "# Q4\n",
    "What is the difference between a function and a function call?"
   ]
  },
  {
   "cell_type": "markdown",
   "id": "e554bb31",
   "metadata": {},
   "source": [
    "Function involves specifying the def statement and the code written underneath the clause\n",
    "Function call leads to exection of the functions return"
   ]
  },
  {
   "cell_type": "markdown",
   "id": "b45b4866",
   "metadata": {},
   "source": [
    "# Q5\n",
    "How many global scopes are there in a Python program? How many local scopes?"
   ]
  },
  {
   "cell_type": "markdown",
   "id": "b934f29b",
   "metadata": {},
   "source": [
    "1 global scope. No. of local scopes depends on the number of functions created in a program"
   ]
  },
  {
   "cell_type": "markdown",
   "id": "ea178fa2",
   "metadata": {},
   "source": [
    "# Q6\n",
    "What happens to variables in a local scope when the function call returns?"
   ]
  },
  {
   "cell_type": "markdown",
   "id": "eab2c4ed",
   "metadata": {},
   "source": [
    "The variables in the local scope are excluded / the local scope is not considered"
   ]
  },
  {
   "cell_type": "markdown",
   "id": "5e4052b8",
   "metadata": {},
   "source": [
    "# Q7\n",
    "What is the concept of a return value? Is it possible to have a return value in an expression?"
   ]
  },
  {
   "cell_type": "markdown",
   "id": "f6a39a95",
   "metadata": {},
   "source": [
    "Return will give the value that that is specified in a function.Yes, it can be used in an expression"
   ]
  },
  {
   "cell_type": "markdown",
   "id": "d69e514a",
   "metadata": {},
   "source": [
    "# Q8\n",
    "If a function does not have a return statement, what is the return value of a call to that function?"
   ]
  },
  {
   "cell_type": "markdown",
   "id": "d35634a8",
   "metadata": {},
   "source": [
    "It will return None\n"
   ]
  },
  {
   "cell_type": "markdown",
   "id": "aa884e3a",
   "metadata": {},
   "source": [
    "# Q9\n",
    "How do you make a function variable refer to the global variable?"
   ]
  },
  {
   "cell_type": "markdown",
   "id": "bee1f995",
   "metadata": {},
   "source": [
    "By having a global statement it will automatically lead to the function referring to the global variable"
   ]
  },
  {
   "cell_type": "markdown",
   "id": "e98adef4",
   "metadata": {},
   "source": [
    "# Q10\n",
    "What is the data type of None?"
   ]
  },
  {
   "cell_type": "code",
   "execution_count": 2,
   "id": "7cf02f15",
   "metadata": {},
   "outputs": [
    {
     "data": {
      "text/plain": [
       "NoneType"
      ]
     },
     "execution_count": 2,
     "metadata": {},
     "output_type": "execute_result"
    }
   ],
   "source": [
    "type(None)"
   ]
  },
  {
   "cell_type": "markdown",
   "id": "7d3a0509",
   "metadata": {},
   "source": [
    "# Q11\n",
    "What does the sentence import areallyourpetsnamederic do?"
   ]
  },
  {
   "cell_type": "markdown",
   "id": "bb88eb90",
   "metadata": {},
   "source": [
    "It will import the module areallyourpetsnamederic"
   ]
  },
  {
   "cell_type": "markdown",
   "id": "3d4cf558",
   "metadata": {},
   "source": [
    "# Q12\n",
    "If you had a bacon() feature in a spam module, what would you call it after importing spam?"
   ]
  },
  {
   "cell_type": "code",
   "execution_count": null,
   "id": "ef3e4705",
   "metadata": {},
   "outputs": [],
   "source": [
    "spam.bacon()"
   ]
  },
  {
   "cell_type": "markdown",
   "id": "d2289b43",
   "metadata": {},
   "source": [
    "# Q13\n",
    "What can you do to save a programme from crashing if it encounters an error?"
   ]
  },
  {
   "cell_type": "markdown",
   "id": "e10f0816",
   "metadata": {},
   "source": [
    "By using a try clause"
   ]
  },
  {
   "cell_type": "markdown",
   "id": "50fb67d7",
   "metadata": {},
   "source": [
    "# Q14\n",
    "What is the purpose of the try clause? What is the purpose of the except clause?"
   ]
  },
  {
   "cell_type": "markdown",
   "id": "60733cbc",
   "metadata": {},
   "source": [
    "A program that can cause some sort of error goes in the try clause.An except clause will lead to execution of a code if an error takes place"
   ]
  }
 ],
 "metadata": {
  "kernelspec": {
   "display_name": "Python 3 (ipykernel)",
   "language": "python",
   "name": "python3"
  },
  "language_info": {
   "codemirror_mode": {
    "name": "ipython",
    "version": 3
   },
   "file_extension": ".py",
   "mimetype": "text/x-python",
   "name": "python",
   "nbconvert_exporter": "python",
   "pygments_lexer": "ipython3",
   "version": "3.9.7"
  }
 },
 "nbformat": 4,
 "nbformat_minor": 5
}
